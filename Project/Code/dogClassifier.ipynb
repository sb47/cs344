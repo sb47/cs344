{
 "cells": [
  {
   "cell_type": "code",
   "execution_count": 1,
   "metadata": {
    "collapsed": false,
    "pycharm": {
     "is_executing": false
    }
   },
   "outputs": [],
   "source": [
    "import os\n",
    "import numpy as np\n",
    "import tensorflow as tf\n",
    "import warnings\n",
    "warnings.filterwarnings('ignore')\n",
    "from dog_images import DogImages\n",
    "from image_classifier import ImageClassifier\n",
    "from sklearn.model_selection import GridSearchCV\n",
    "import matplotlib.pyplot as plt"
   ]
  },
  {
   "cell_type": "code",
   "execution_count": 2,
   "metadata": {
    "collapsed": false,
    "pycharm": {
     "is_executing": false
    }
   },
   "outputs": [
    {
     "name": "stdout",
     "text": [
      "n02085620-Chihuahua\n"
     ],
     "output_type": "stream"
    }
   ],
   "source": [
    "picsize = 128\n",
    "# Step 1: Get List of Dogs\n",
    "lst = [x[0] for x in os.walk('../Data/Images')]\n",
    "lst_dogs = [a.replace(\"../Data/Images\", '')[1:] for a in lst[1:]]\n",
    "print(lst_dogs[0])"
   ]
  },
  {
   "cell_type": "code",
   "execution_count": 3,
   "metadata": {
    "collapsed": false,
    "pycharm": {
     "is_executing": false
    }
   },
   "outputs": [
    {
     "name": "stdout",
     "text": [
      "n02116738-African_hunting_dog\n"
     ],
     "output_type": "stream"
    }
   ],
   "source": [
    "# Step 2: Make the Images...\n",
    "dog_images = DogImages(lst_dogs, picsize)\n",
    "dog_images.generate_img_files()\n",
    "train_imgs = dog_images.load_images('train')\n",
    "test_imgs = dog_images.load_images('test')\n",
    "Xtest = test_imgs[0]\n",
    "Ytest = test_imgs[1]\n",
    "Xtrain = train_imgs[0]\n",
    "Ytrain = train_imgs[1]\n",
    "print(lst_dogs[-1])"
   ]
  },
  {
   "cell_type": "code",
   "execution_count": 4,
   "metadata": {
    "collapsed": false,
    "pycharm": {
     "is_executing": false
    }
   },
   "outputs": [
    {
     "name": "stdout",
     "text": [
      "done\n"
     ],
     "output_type": "stream"
    }
   ],
   "source": [
    "# Step 3: Initial Shuffle of Train & Test Sets\n",
    "Xhold = Xtrain\n",
    "Yhold = Ytrain\n",
    "new = np.array([i for i in range(Xhold.shape[0])])\n",
    "np.random.shuffle(new)\n",
    "for i, n in enumerate(new):\n",
    "    Xtrain[i, :] = Xhold[n, :]\n",
    "    Ytrain[i, :] = Yhold[n, :]\n",
    "\n",
    "Xhold = Xtest\n",
    "Yhold = Ytest\n",
    "new = np.array([i for i in range(Xhold.shape[0])])\n",
    "np.random.shuffle(new)\n",
    "for i, n in enumerate(new):\n",
    "    Xtest[i, :] = Xhold[n, :]\n",
    "    Ytest[i, :] = Yhold[n, :]\n",
    "print('done')"
   ]
  },
  {
   "cell_type": "code",
   "execution_count": 6,
   "metadata": {
    "collapsed": true,
    "pycharm": {
     "is_executing": false
    }
   },
   "outputs": [],
   "source": [
    "def shuffle_function(X, y):\n",
    "    Xhold = X.copy()\n",
    "    Yhold = y.copy()\n",
    "    new = np.array([i for i in range(Xhold.shape[0])])\n",
    "    np.random.shuffle(new)\n",
    "    for i, n in enumerate(new):\n",
    "        X[i, :] = Xhold[n, :]\n",
    "        y[i, :] = Yhold[n, :]\n",
    "    return X, y"
   ]
  },
  {
   "cell_type": "code",
   "execution_count": 7,
   "metadata": {
    "collapsed": true,
    "pycharm": {
     "is_executing": false
    }
   },
   "outputs": [],
   "source": [
    "def plot_learning(model):\n",
    "    plt.plot(list(range(len(model.loss_function))),\n",
    "             model.loss_function, color='y', label='Loss/Max Loss')\n",
    "    plt.plot(list(range(len(model.train_accuracies))),\n",
    "             model.train_accuracies, color='r', label='Training')\n",
    "    plt.plot(list(range(len(model.val_accuracies))),\n",
    "             model.val_accuracies, color='b', label='Validation')\n",
    "    plt.ylabel('Probability')\n",
    "    plt.xlabel('Epochs')\n",
    "    plt.title('Accuracy & Loss')\n",
    "    plt.ylim(ymax=1)\n",
    "    plt.ylim(ymin=0)\n",
    "    plt.legend()\n",
    "    plt.show()"
   ]
  },
  {
   "cell_type": "code",
   "execution_count": 8,
   "metadata": {
    "collapsed": true,
    "pycharm": {
     "is_executing": false
    }
   },
   "outputs": [],
   "source": [
    "N = 50"
   ]
  },
  {
   "cell_type": "code",
   "execution_count": 9,
   "metadata": {
    "collapsed": false,
    "pycharm": {
     "is_executing": false
    }
   },
   "outputs": [
    {
     "name": "stdout",
     "text": [
      "['silky_terrier', 'Not Hot Dog']\n"
     ],
     "output_type": "stream"
    }
   ],
   "source": [
    "# need 0:1 to get 0... it's a weird numpy thing\n",
    "# so for lst_dogs[N], go Yt...[:, N:N + 1] \n",
    "Ytrain_1 = np.zeros((Ytrain.shape[0],2))\n",
    "Ytest_1 = np.zeros((Ytest.shape[0],2))\n",
    "\n",
    "Ytrain_1[Ytrain[:,N]==1] = [1, 0]\n",
    "Ytrain_1[Ytrain[:,N]==0] = [0, 1]\n",
    "\n",
    "Ytest_1[Ytest[:,N]==1] = [1, 0]\n",
    "Ytest_1[Ytest[:,N]==0] = [0, 1]\n",
    "\n",
    "Ytrain_a = Ytrain_1[Ytrain_1[:,0] == 1]\n",
    "Xtrain_a = Xtrain[Ytrain_1[:,0] == 1]\n",
    "Ytrain_b = Ytrain_1[Ytrain_1[:,0] == 0][:3*Ytrain_a.shape[0]]\n",
    "Xtrain_b = Xtrain_a #Xtrain[Ytrain_1[:,0] == 0][:3*Ytrain_a.shape[0]]\n",
    "\n",
    "Ytrain_run = np.concatenate((Ytrain_a, Ytrain_b))\n",
    "Xtrain_run = np.concatenate((Xtrain_a, Xtrain_b))\n",
    "\n",
    "lst_dogs_1 = [lst_dogs[N][lst_dogs[N].index('-')+1:], 'Not Hot Dog']\n",
    "\n",
    "Xtrain_run, Ytrain_run = shuffle_function(Xtrain_run, Ytrain_run)\n",
    "print(lst_dogs_1)"
   ]
  },
  {
   "cell_type": "code",
   "execution_count": null,
   "metadata": {
    "collapsed": false,
    "pycharm": {
     "is_executing": true
    }
   },
   "outputs": [
    {
     "name": "stdout",
     "text": [
      "\nWARNING: The TensorFlow contrib module will not be included in TensorFlow 2.0.\nFor more information, please see:\n  * https://github.com/tensorflow/community/blob/master/rfcs/20180907-contrib-sunset.md\n  * https://github.com/tensorflow/addons\nIf you depend on functionality not listed there, please file an issue.\n\nWARNING:tensorflow:From C:\\Users\\seanb\\AppData\\Local\\Programs\\Python\\Python37\\lib\\site-packages\\tensorflow\\python\\framework\\op_def_library.py:263: colocate_with (from tensorflow.python.framework.ops) is deprecated and will be removed in a future version.\nInstructions for updating:\nColocations handled automatically by placer.\n",
      "WARNING:tensorflow:From C:\\Users\\seanb\\PycharmProjects\\cs344\\Project\\Code\\image_classifier.py:279: softmax_cross_entropy_with_logits (from tensorflow.python.ops.nn_ops) is deprecated and will be removed in a future version.\nInstructions for updating:\n\nFuture major versions of TensorFlow will allow gradients to flow\ninto the labels input on backprop by default.\n\nSee `tf.nn.softmax_cross_entropy_with_logits_v2`.\n\n",
      "\rPercent Complete: --.----% - Train Accuracy: --.--- - Validation Accuracy: --.--- - Loss Function: ----.----",
      "\rPercent Complete: 0.0000% - Train Accuracy: --.--- - Validation Accuracy: --.--- - Loss Function: ----.----",
      "\rPercent Complete: 2.7778% - Train Accuracy: --.--- - Validation Accuracy: --.--- - Loss Function: ----.----",
      "\rPercent Complete: 5.5556% - Train Accuracy: --.--- - Validation Accuracy: --.--- - Loss Function: ----.----",
      "\rPercent Complete: 8.3333% - Train Accuracy: --.--- - Validation Accuracy: --.--- - Loss Function: ----.----",
      "\rPercent Complete: 11.1111% - Train Accuracy: --.--- - Validation Accuracy: --.--- - Loss Function: ----.----",
      "\rPercent Complete: 13.8889% - Train Accuracy: --.--- - Validation Accuracy: --.--- - Loss Function: ----.----",
      "\rPercent Complete: 16.6667% - Train Accuracy: --.--- - Validation Accuracy: --.--- - Loss Function: ----.----",
      "\rPercent Complete: 19.4444% - Train Accuracy: --.--- - Validation Accuracy: --.--- - Loss Function: ----.----",
      "\rPercent Complete: 22.2222% - Train Accuracy: --.--- - Validation Accuracy: --.--- - Loss Function: ----.----",
      "\rPercent Complete: 22.2222% - Train Accuracy: 42.857% - Validation Accuracy: 54.839% - Loss Function: 556.6404",
      "\rPercent Complete: 25.0000% - Train Accuracy: 42.857% - Validation Accuracy: 54.839% - Loss Function: 556.6404",
      "\rPercent Complete: 27.7778% - Train Accuracy: 42.857% - Validation Accuracy: 54.839% - Loss Function: 556.6404",
      "\rPercent Complete: 30.5556% - Train Accuracy: 42.857% - Validation Accuracy: 54.839% - Loss Function: 556.6404",
      "\rPercent Complete: 33.3333% - Train Accuracy: 42.857% - Validation Accuracy: 54.839% - Loss Function: 556.6404",
      "\rPercent Complete: 36.1111% - Train Accuracy: 42.857% - Validation Accuracy: 54.839% - Loss Function: 556.6404",
      "\rPercent Complete: 38.8889% - Train Accuracy: 42.857% - Validation Accuracy: 54.839% - Loss Function: 556.6404",
      "\rPercent Complete: 41.6667% - Train Accuracy: 42.857% - Validation Accuracy: 54.839% - Loss Function: 556.6404",
      "\rPercent Complete: 44.4444% - Train Accuracy: 42.857% - Validation Accuracy: 54.839% - Loss Function: 556.6404",
      "\rPercent Complete: 47.2222% - Train Accuracy: 42.857% - Validation Accuracy: 54.839% - Loss Function: 556.6404",
      "\rPercent Complete: 47.2222% - Train Accuracy: 51.020% - Validation Accuracy: 45.161% - Loss Function: 177.7808",
      "\rPercent Complete: 50.0000% - Train Accuracy: 51.020% - Validation Accuracy: 45.161% - Loss Function: 177.7808",
      "\rPercent Complete: 52.7778% - Train Accuracy: 51.020% - Validation Accuracy: 45.161% - Loss Function: 177.7808",
      "\rPercent Complete: 55.5556% - Train Accuracy: 51.020% - Validation Accuracy: 45.161% - Loss Function: 177.7808",
      "\rPercent Complete: 58.3333% - Train Accuracy: 51.020% - Validation Accuracy: 45.161% - Loss Function: 177.7808",
      "\rPercent Complete: 61.1111% - Train Accuracy: 51.020% - Validation Accuracy: 45.161% - Loss Function: 177.7808",
      "\rPercent Complete: 63.8889% - Train Accuracy: 51.020% - Validation Accuracy: 45.161% - Loss Function: 177.7808",
      "\rPercent Complete: 66.6667% - Train Accuracy: 51.020% - Validation Accuracy: 45.161% - Loss Function: 177.7808",
      "\rPercent Complete: 69.4444% - Train Accuracy: 51.020% - Validation Accuracy: 45.161% - Loss Function: 177.7808",
      "\rPercent Complete: 72.2222% - Train Accuracy: 51.020% - Validation Accuracy: 45.161% - Loss Function: 177.7808",
      "\rPercent Complete: 72.2222% - Train Accuracy: 71.429% - Validation Accuracy: 45.161% - Loss Function: 119.0680",
      "\rPercent Complete: 75.0000% - Train Accuracy: 71.429% - Validation Accuracy: 45.161% - Loss Function: 119.0680",
      "\rPercent Complete: 77.7778% - Train Accuracy: 71.429% - Validation Accuracy: 45.161% - Loss Function: 119.0680",
      "\rPercent Complete: 80.5556% - Train Accuracy: 71.429% - Validation Accuracy: 45.161% - Loss Function: 119.0680",
      "\rPercent Complete: 83.3333% - Train Accuracy: 71.429% - Validation Accuracy: 45.161% - Loss Function: 119.0680",
      "\rPercent Complete: 86.1111% - Train Accuracy: 71.429% - Validation Accuracy: 45.161% - Loss Function: 119.0680",
      "\rPercent Complete: 88.8889% - Train Accuracy: 71.429% - Validation Accuracy: 45.161% - Loss Function: 119.0680",
      "\rPercent Complete: 91.6667% - Train Accuracy: 71.429% - Validation Accuracy: 45.161% - Loss Function: 119.0680",
      "\rPercent Complete: 94.4444% - Train Accuracy: 71.429% - Validation Accuracy: 45.161% - Loss Function: 119.0680",
      "\rPercent Complete: 97.2222% - Train Accuracy: 71.429% - Validation Accuracy: 45.161% - Loss Function: 119.0680",
      "\rPercent Complete: 97.2222% - Train Accuracy: 51.020% - Validation Accuracy: 54.839% - Loss Function: 113.4045"
     ],
     "output_type": "stream"
    },
    {
     "data": {
      "text/plain": "<Figure size 432x288 with 1 Axes>",
      "image/png": "[encoded data removed]"
     },
     "metadata": {
      "needs_background": "light"
     },
     "output_type": "display_data"
    }
   ],
   "source": [
    "model = ImageClassifier(picsize, lst_dogs_1,\n",
    "                                 out_channels = 12,\n",
    "                                 out_channels_2 = 24,\n",
    "                                 hidden_units = 50,\n",
    "                                 regularization_strength = 1.0,\n",
    "                                 batch_size = 50,\n",
    "                                 learning_rate = 0.0001,\n",
    "                                 convolution_size = 5,\n",
    "                                 pool_size = 2,\n",
    "                                 training_epochs = 4,\n",
    "                                 loss_threshold = 1.0,\n",
    "                                 verbose=True)\n",
    "\n",
    "model.fit(Xtrain_run, Ytrain_run)\n",
    "plot_learning(model)\n",
    "score = model.score(Xtest, Ytest_1)\n",
    "print(score)"
   ]
  }
 ],
 "metadata": {
  "anaconda-cloud": {},
  "kernelspec": {
   "name": "pycharm-f367217d",
   "language": "python",
   "display_name": "PyCharm (cs344)"
  },
  "language_info": {
   "codemirror_mode": {
    "name": "ipython",
    "version": 3
   },
   "file_extension": ".py",
   "mimetype": "text/x-python",
   "name": "python",
   "nbconvert_exporter": "python",
   "pygments_lexer": "ipython3",
   "version": "3.5.2"
  },
  "pycharm": {
   "stem_cell": {
    "cell_type": "raw",
    "source": [],
    "metadata": {
     "collapsed": false
    }
   }
  }
 },
 "nbformat": 4,
 "nbformat_minor": 2
}