{
 "cells": [
  {
   "cell_type": "markdown",
   "source": [
    "# Project Report\n",
    "### By Sean Brouwer\n",
    "#### May 13, 2019\n"
   ],
   "metadata": {
    "collapsed": false
   }
  },
  {
   "cell_type": "markdown",
   "source": [
    "### Vision"
   ],
   "metadata": {
    "collapsed": false,
    "pycharm": {
     "name": "#%% md\n"
    }
   }
  },
  {
   "cell_type": "markdown",
   "source": [
    "For this project I am classifying dogs by breed, using an existing\n",
    "dataset of dogs. My motivation for choosing this project is that I\n",
    "am a bit of a dog lover, and am fascinated by the great variety\n",
    "between dog breeds, especially when compared to cat breeds. Cats\n",
    "mostly have differences between breeds that are shown in fur color\n",
    "and face shape, whereas dogs are entirely different sizes and have\n",
    "very different body structures. This immense variety between dog\n",
    "breeds allows for easier classification using machine learning.\n",
    "Because I am a beginner to the proper utilization of machine learning\n",
    "and neural networks, this easier classification problem is feasible\n",
    "whereas a cat classification problem may not be.\n"
   ],
   "metadata": {
    "collapsed": false
   }
  },
  {
   "cell_type": "markdown",
   "source": [
    "### Background"
   ],
   "metadata": {
    "collapsed": false,
    "pycharm": {
     "name": "#%% md\n"
    }
   }
  },
  {
   "cell_type": "markdown",
   "source": [
    "The dataset of dogs used in this project is the \"Stanford Dogs\n",
    "Dataset\". This dataset comes with the dog images already classified\n",
    "by breed, allowing for the use of supervised machine learning. The\n",
    "dataset can be found at \"https://www.kaggle.com/jessicali9530/stanford\n",
    "-dogs-dataset\". Contained in the dataset 20,580 images of dogs from\n",
    "120 different dog breeds. Those breeds include common breeds such as\n",
    "golden retrievers and rottweilers, but also much more obscure breeds\n",
    "that are mostly only known to dog breeding enthusiasts. Examples of\n",
    "these breeds include welsh springer spaniels and tibetan mastiffs.\n",
    "The distribution of dogs in this dataset is relatively even between\n",
    "the different breeds, typically having between 150 and 250 images for\n",
    "each. The dogs also are pictured in a variety of poses, so that\n",
    "recognition can be trained for pictures with the mouth open or closed,\n",
    "and from the side or front."
   ],
   "metadata": {
    "collapsed": false
   }
  },
  {
   "cell_type": "markdown",
   "source": [
    "This project is not the first dog classification algorithm using the\n",
    "Stanford Dogs Dataset. Because other projects have been done and have\n",
    "made their source code available for reference, the base of this\n",
    "project could be made on a previous project. The main project that\n",
    "was utilized in this manner can be found at the following GitHub:\n",
    "\"https://github.com/NeverForged/DogClassifier\". Without being able to\n",
    "use this code as a guide, I would never have been able to build a\n",
    "functional neural network to perform the required classifications\n",
    "because of my very limited experience and exposure to the building of\n",
    "such networks."
   ],
   "metadata": {
    "collapsed": false
   }
  },
  {
   "cell_type": "markdown",
   "source": [
    "The broad classification of the technology used to make the dog breed\n",
    "classifier function is machine learning. More specifically, neural\n",
    "networks were employed and implemented using TensorFlow. TensorFlow\n",
    "was selected because it is an excellent open source platform for\n",
    "building and deploying machine learning applications with relative\n",
    "ease. TensorFlow is also a platform that I have a bit of experience in\n",
    "via the lab work and homework done in CS 344. Finally, the previous\n",
    "projects done on this dataset also used TensorFlow, so examples of the\n",
    "proper methods for creating TensorFlow neural networks could be\n",
    "followed to ease some of the confusion and frustration that\n",
    "complicated projects such as this one commonly entail."
   ],
   "metadata": {
    "collapsed": false,
    "pycharm": {
     "name": "#%% md\n"
    }
   }
  },
  {
   "cell_type": "markdown",
   "source": [
    "To go into more depth with the technology used in this project, a\n",
    "convolutional neural network was implemented. A convolutional network\n",
    "was chosen instead of a regular neural network because convolutional\n",
    "neural networks are specialized to work well with picture analysis.\n",
    "This network was created with five distinct layers. The first\n",
    "and third layers were each convolutional layers, while the second and\n",
    "fourth layers each utilized max pooling. The final layer is a fully\n",
    "connected layer and  narrows the network down enough to generate an\n",
    "output layer. The convolutional layers function by taking small\n",
    "areas (in this case 3x3 pixels) out of the large picture, and after\n",
    "each sample sliding the area over 1 pixel. This is done so that the\n",
    "subsections have plenty of overlap to avoid features being cut in\n",
    "half. Each subsection is evaluated to see if it matches subsections\n",
    "from the trained images. The max pooling layers each take a small\n",
    "section of the output from the convolutional layers and remove all\n",
    "but the one subsection with the highest activation values, thereby\n",
    "removing the less-useful data and leaving the sections that contain\n",
    "recognizable features.\n"
   ],
   "metadata": {
    "collapsed": false,
    "pycharm": {
     "name": "#%% md\n"
    }
   }
  },
  {
   "cell_type": "markdown",
   "source": [
    "### Implementation"
   ],
   "metadata": {
    "collapsed": false
   }
  },
  {
   "cell_type": "markdown",
   "source": [
    "This implementation of a convolutional neural network uses five\n",
    "layers, as mentioned in the background section. The first and third\n",
    "layers are convolutional layers, the second and fourth layers are\n",
    "max pooling layers, and the final layer is a fully connected layer.\n",
    "Together, these layers produce an output layer which provides the\n",
    "classification of the dog by its breed."
   ],
   "metadata": {
    "collapsed": false
   }
  },
  {
   "cell_type": "markdown",
   "source": [
    "Most of the implementation of this project follows exactly the\n",
    "network layout provided in the GitHub: \"https://github.com/\n",
    "NeverForged/DogClassifier\". The main areas where this project\n",
    "differs from the existing convolutional neural nework are in its\n",
    "final computation. I found that the original training epoch count\n",
    "(100) overfitted the data profusely. By shortening the amount of\n",
    "training on the data, I was able to bring the training and validation\n",
    "results to very similar percents, and even increase the validation\n",
    "accuracy slightly."
   ],
   "metadata": {
    "collapsed": false,
    "pycharm": {
     "name": "#%% md\n"
    }
   }
  },
  {
   "cell_type": "markdown",
   "source": [
    "In this project implementation I also struggled with memory errors.\n",
    "Some of the network layer computations required more memory than\n",
    "my laptop could offer, even when I increased the memory stack size\n",
    "in PyCharm. To work around this, I had to simplify a couple of the\n",
    "computations done in the network, so that they did not require\n",
    "multiple copies of the images stored in variables. As I was unable\n",
    "to run the network before making this change, I do not know how\n",
    "the results are affected. My best estimate is that the accuracy\n",
    "decreased, but not by a significant amount."
   ],
   "metadata": {
    "collapsed": false,
    "pycharm": {
     "name": "#%% md\n"
    }
   }
  },
  {
   "cell_type": "markdown",
   "source": [
    "Before finding the network I modeled my system after, I struggled\n",
    "with data. When I downloaded the Stanford Dogs Database directly\n",
    "from its source, it came in a file format I was very unfamiliar\n",
    "with (.m for a MatLAB file). I struggled for a long while trying\n",
    "to find a functional method for converting the files to something \n",
    "I could use, like .jpg. Thankfully, the network I found at the\n",
    "previously mentioned GitHub had a version of the database that\n",
    "had already been converted to a .jpg format. If not for this\n",
    "previously transformed dataset, I would have had much more\n",
    "difficulty in getting this project to work, and may not have had\n",
    "time to make the performance enhancements I was able to implement.\n",
    "\n"
   ],
   "metadata": {
    "collapsed": false,
    "pycharm": {
     "name": "#%% md\n"
    }
   }
  },
  {
   "cell_type": "markdown",
   "source": [
    "### Results"
   ],
   "metadata": {
    "collapsed": false
   }
  },
  {
   "cell_type": "markdown",
   "source": [
    "The best result I was able to achieve with this system was 54.839%.\n",
    "Although this number initially does not sound all that great, when\n",
    "one considers that the correct classification is given out of 120\n",
    "possible answers over half of the time it seems a lot better of a\n",
    "result. Random guessing would result in less than one percent\n",
    "accuracy, which is far less than this convolutional neural network\n",
    "was able to achieve."
   ],
   "metadata": {
    "collapsed": false
   }
  },
  {
   "cell_type": "markdown",
   "source": [
    "Initially, the system provided by the GitHub performed much better\n",
    "in the training dataset (over 75% accuracy), but was only in the \n",
    "low 40s percent accuracy in the validation set. By decreasing the\n",
    "number of epochs from 100 to 4, I was both able to decrease the\n",
    "computation time of the system and decrease the overfitting that\n",
    "had occurred with the longer computations. In fact, overfitting\n",
    "was removed to the extent that the training dataset performed worse\n",
    "(51.02% accuracy) than the validation dataset, which happened due\n",
    "to random chance of the images in both sets, but did indicate that\n",
    "overfitting was nearly non-existent in the network.\n"
   ],
   "metadata": {
    "collapsed": false,
    "pycharm": {
     "name": "#%% md\n"
    }
   }
  },
  {
   "cell_type": "markdown",
   "source": [
    "### Implications"
   ],
   "metadata": {
    "collapsed": false
   }
  },
  {
   "cell_type": "markdown",
   "source": [
    "Neural networks as a whole act much like a black box. The network\n",
    "has clear inputs and outputs, but it is very difficult to\n",
    "understand what happens in between. Because the internal workings\n",
    "of the network are defined by that network and not by the user\n",
    "(for the most part), the functioning of the network could happen\n",
    "in a manner that is discriminatory, without the creator of the\n",
    "network having any knowledge of it. The discrimination of a network\n",
    "then would often be discovered much later, after the network is\n",
    "already deployed and being used to make real world decisions. One\n",
    "example is a network to estimate how likely an insurance customer\n",
    "is to default, in which the network makes a link between race\n",
    "and customer rating."
   ],
   "metadata": {
    "collapsed": false
   }
  },
  {
   "cell_type": "markdown",
   "source": [
    "Another ethical consideration for neural networks, especially\n",
    "those implemented on classification problems, is the results of\n",
    "failed classification. One example of this is a Google Photo\n",
    "captioning system that mistakenly captioned a black couple as\n",
    "gorillas. This obviously had some negative consequences for\n",
    "Google as many people were outraged."
   ],
   "metadata": {
    "collapsed": false,
    "pycharm": {
     "name": "#%% md\n"
    }
   }
  },
  {
   "cell_type": "markdown",
   "source": [
    "For this system, the ethical concerns listed above are not as\n",
    "big of a deal because of the subject matter. Mis-classifying\n",
    "a dog as the wrong breed will never offend the dog as it cannot\n",
    "understand the program, and most dog owners will also not make a\n",
    "big deal of it. That said, it is still important for a program\n",
    "such as this to be as accurate as possible, as potential users\n",
    "would benefit from it not making mistakes.\n"
   ],
   "metadata": {
    "collapsed": false,
    "pycharm": {
     "name": "#%% md\n"
    }
   }
  },
  {
   "cell_type": "markdown",
   "source": [
    "### Bibliography"
   ],
   "metadata": {
    "collapsed": false,
    "pycharm": {
     "name": "#%% md\n"
    }
   }
  },
  {
   "cell_type": "markdown",
   "source": [
    "https://www.kaggle.com/jessicali9530/stanford-dogs-dataset"
   ],
   "metadata": {
    "collapsed": false,
    "pycharm": {
     "name": "#%% md\n"
    }
   }
  },
  {
   "cell_type": "markdown",
   "source": [
    "https://github.com/NeverForged/DogClassifier"
   ],
   "metadata": {
    "collapsed": false,
    "pycharm": {
     "name": "#%% md\n"
    }
   }
  },
  {
   "cell_type": "markdown",
   "source": [
    "https://github.com/saksham789/DOG-BREED-CLASSIFICATION-STANFORD-DOG-DATASET"
   ],
   "metadata": {
    "collapsed": false,
    "pycharm": {
     "name": "#%% md\n"
    }
   }
  },
  {
   "cell_type": "markdown",
   "source": [
    "https://developers.google.com/machine-learning/crash-course/"
   ],
   "metadata": {
    "collapsed": false,
    "pycharm": {
     "name": "#%% md\n"
    }
   }
  },
  {
   "cell_type": "markdown",
   "source": [
    "https://en.wikipedia.org/wiki/Convolutional_neural_network"
   ],
   "metadata": {
    "collapsed": false,
    "pycharm": {
     "name": "#%% md\n"
    }
   }
  },
  {
   "cell_type": "markdown",
   "source": [
    "https://aleph.se/andart2/ethics/ethics-for-neural-networks/\n",
    "\n"
   ],
   "metadata": {
    "collapsed": false,
    "pycharm": {
     "name": "#%% md\n"
    }
   }
  }
 ],
 "metadata": {
  "language_info": {
   "codemirror_mode": {
    "name": "ipython",
    "version": 2
   },
   "file_extension": ".py",
   "mimetype": "text/x-python",
   "name": "python",
   "nbconvert_exporter": "python",
   "pygments_lexer": "ipython2",
   "version": "2.7.6"
  },
  "kernelspec": {
   "name": "python3",
   "language": "python",
   "display_name": "Python 3"
  },
  "pycharm": {
   "stem_cell": {
    "cell_type": "raw",
    "source": [],
    "metadata": {
     "collapsed": false
    }
   }
  }
 },
 "nbformat": 4,
 "nbformat_minor": 0
}