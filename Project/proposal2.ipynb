{
  "cells": [
    {
      "cell_type": "markdown",
      "metadata": {
        "collapsed": true,
        "pycharm": {
          "name": "#%% md\n"
        }
      },
      "source": "Sean Brouwer CS344 5/3/19"
    },
    {
      "cell_type": "markdown",
      "source": "Final Project Proposal\n",
      "metadata": {
        "pycharm": {
          "metadata": false,
          "name": "#%% md\n"
        }
      }
    },
    {
      "cell_type": "markdown",
      "source": "This proposal shows a very rough draft of each of the sections of\nthe final report. More content will be added to each section as\nthe coding component of the project progresses.\n",
      "metadata": {
        "pycharm": {
          "metadata": false,
          "name": "#%% md\n"
        }
      }
    },
    {
      "cell_type": "markdown",
      "source": "Vision",
      "metadata": {
        "pycharm": {
          "metadata": false,
          "name": "#%% md\n"
        }
      }
    },
    {
      "cell_type": "markdown",
      "source": "For this project I am classifying dogs by breed, using an existing\ndataset of dogs. My motivation for choosing this project is that I\nam a bit of a dog lover, and am fascinated by the great variety\nbetween dog breeds, especially when compared to cat breeds. This\nvariety allows for high-accuracy classification of dog breeds.\n",
      "metadata": {
        "pycharm": {
          "metadata": false,
          "name": "#%% md\n"
        }
      }
    },
    {
      "cell_type": "markdown",
      "source": "Background",
      "metadata": {
        "pycharm": {
          "metadata": false,
          "name": "#%% md\n"
        }
      }
    },
    {
      "cell_type": "markdown",
      "source": "The dataset of dogs used in this project is the \"Stanford Dogs\nDataset\". This dataset comes with the dog images already classified\nby breed, allowing for supervised machine learning. The dataset can\nbe found at \"https://www.kaggle.com/jessicali9530/stanford-dogs-\ndataset\". Contained in the dataset 20,580 images of dogs from 120\ndifferent dog breeds.",
      "metadata": {
        "pycharm": {
          "metadata": false,
          "name": "#%% md\n"
        }
      }
    },
    {
      "cell_type": "markdown",
      "source": "Similar projects have been done in the past, and have been used to\nsetup the base for this system. One such project can be found at the\nfollowing GitHub: \"https://github.com/saksham789/DOG-BREED-\nCLASSIFICATION-STANFORD-DOG-DATASET\".\n",
      "metadata": {
        "pycharm": {
          "metadata": false,
          "name": "#%% md\n"
        }
      }
    },
    {
      "cell_type": "markdown",
      "source": "Implementation",
      "metadata": {
        "pycharm": {
          "metadata": false,
          "name": "#%% md\n"
        }
      }
    },
    {
      "cell_type": "markdown",
      "source": "My implementation of this project uses a convolutional neural network\nwith Keras, as it is one of the more customizable methods of\nimplementing a CNN.\n",
      "metadata": {
        "pycharm": {
          "metadata": false,
          "name": "#%% md\n"
        }
      }
    },
    {
      "cell_type": "markdown",
      "source": "Results",
      "metadata": {
        "pycharm": {
          "metadata": false,
          "name": "#%% md\n"
        }
      }
    },
    {
      "cell_type": "markdown",
      "source": "As this project is yet to be tested, no results have been produced so\nfar.\n",
      "metadata": {
        "pycharm": {
          "metadata": false,
          "name": "#%% md\n"
        }
      }
    },
    {
      "cell_type": "markdown",
      "source": "Implications",
      "metadata": {
        "pycharm": {
          "metadata": false,
          "name": "#%% md\n"
        }
      }
    },
    {
      "cell_type": "markdown",
      "source": "Because of the \"Black Box\" nature of CNNs, it is difficult to say\nwithout extremely rigorous examination of the data where the network\nis failing most often and why that may be. If this were a\nclassification of people into different genders and ethnicities\ninstead of dogs into breeds, the implications of how the\nclassifications were done would be much more severe. Thankfully,\nincorrectly classifying a dog does not make a network racist.\n\n",
      "metadata": {
        "pycharm": {
          "metadata": false,
          "name": "#%% md\n"
        }
      }
    }
  ],
  "metadata": {
    "language_info": {
      "codemirror_mode": {
        "name": "ipython",
        "version": 2
      },
      "file_extension": ".py",
      "mimetype": "text/x-python",
      "name": "python",
      "nbconvert_exporter": "python",
      "pygments_lexer": "ipython2",
      "version": "2.7.6"
    },
    "kernelspec": {
      "name": "python3",
      "language": "python",
      "display_name": "Python 3"
    }
  },
  "nbformat": 4,
  "nbformat_minor": 0
}
