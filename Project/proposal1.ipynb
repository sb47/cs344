{
  "cells": [
    {
      "cell_type": "markdown",
      "metadata": {
        "collapsed": true,
        "pycharm": {
          "name": "#%% md\n"
        }
      },
      "source": "Sean Brouwer   CS344   4/19/19"
    },
    {
      "cell_type": "markdown",
      "source": "Final Project Proposal",
      "metadata": {
        "pycharm": {
          "metadata": false,
          "name": "#%% md\n"
        }
      }
    },
    {
      "cell_type": "markdown",
      "source": "For my final project I would like to do image classification of dog breeds,\nusing a dataset called the \"Stanford Dogs Dataset\". Information on this\ndataset can be found at:\nhttps://www.kaggle.com/jessicali9530/stanford-dogs-dataset. The dataset\ncontains 20,580 images of dogs, which have been classified into 120 different\nbreeds. Because the dogs are already identified as their correct breeds, I\ncan make use of supervised machine learning to train a neural network. My\nexperience in training similar models in recent labs in CS 344 will aid me in\nsuccessfully completing this project.",
      "metadata": {
        "pycharm": {
          "metadata": false,
          "name": "#%% md\n"
        }
      }
    },
    {
      "cell_type": "markdown",
      "source": "My motivations for doing this project are varied. Of all of the AI concepts\nthat have been discussed so far, image and/or text classification has made the\nmost sense to me, making it ideal for further independent study. As for the\ntype of classification to perform, I would not call myself an extreme dog \nlover, but I do enjoy their company, especially my family\u0027s maltese, Annie.\nBecause of this inclination, the \"Stanford Dogs Dataset\" stood out to me when\nI found it.\n",
      "metadata": {
        "pycharm": {
          "metadata": false,
          "name": "#%% md\n"
        }
      }
    }
  ],
  "metadata": {
    "language_info": {
      "codemirror_mode": {
        "name": "ipython",
        "version": 2
      },
      "file_extension": ".py",
      "mimetype": "text/x-python",
      "name": "python",
      "nbconvert_exporter": "python",
      "pygments_lexer": "ipython2",
      "version": "2.7.6"
    },
    "kernelspec": {
      "name": "python3",
      "language": "python",
      "display_name": "Python 3"
    }
  },
  "nbformat": 4,
  "nbformat_minor": 0
}
