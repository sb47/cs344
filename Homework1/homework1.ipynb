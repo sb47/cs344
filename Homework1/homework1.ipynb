{
 "cells": [
  {
   "cell_type": "heading",
   "metadata": {
    "collapsed": true
   },
   "level": 6,
   "source": [
    "Homework 1 by Sean Brouwer. Date: 2/22/19"
   ]
  },
  {
   "cell_type": "heading",
   "metadata": {},
   "level": 6,
   "source": [
    "Part 1:"
   ]
  },
  {
   "cell_type": "heading",
   "metadata": {},
   "level": 6,
   "source": [
    "Early psychologists used the process of introspection to study the human mind. Introspection is the self-examination of one's thoughts and feelings. This process relies only on the self-observer and is therefore subject to all inaccuracies or biases of the subject. One can do only a small amount of digging into the history of introspection and easily recognize the vast limitations of the practice. One of the main limitations is the false confidence of subjects relating their mental processes. A phenominon called the \"introspection illusion\" occurs when people using introspection are unaware of their unawareness, and contributes to the inaccuracy of the method."
   ]
  },
  {
   "cell_type": "heading",
   "metadata": {},
   "level": 6,
   "source": [
    "Becuase of the inaccurate nature of introspection, it is no surprise that the method does not model the human cognitive process well enough to properly inform efforts in artificial intelligence. Whatever introspective models are used to formulate AI would not properly mirror the working of the mind. An alternative to modeling the entire human mind with introspection is to instead model parts of the cognitive process, like logic or selection of alternatives."
   ]
  },
  {
   "cell_type": "heading",
   "metadata": {},
   "level": 6,
   "source": [
    "Part 2:"
   ]
  },
  {
   "cell_type": "code",
   "execution_count": 3,
   "metadata": {
    "collapsed": false
   },
   "outputs": [
    {
     "name": "stdout",
     "output_type": "stream",
     "text": [
      "Starting Path: [16, 10, 4, 0, 13, 1, 17, 5, 19, 18, 7, 6, 9, 2, 11, 3, 12, 14, 8, 15, 16]\n\nHill Climbing:\nBest Path: [16, 8, 14, 12, 3, 11, 2, 9, 6, 7, 18, 19, 5, 17, 1, 13, 0, 4, 10, 15, 16]\nBest Path cost: 34\nExecution time: 0.0030050277709960938\n\nSimulated Annealing:\n"
     ]
    },
    {
     "name": "stdout",
     "output_type": "stream",
     "text": [
      "Best Path: [16, 8, 14, 12, 3, 11, 2, 9, 6, 7, 18, 19, 5, 17, 1, 13, 0, 4, 10, 15, 16]\nBest Path cost: 34\nExecution time: 1.6987624168395996\n"
     ]
    }
   ],
   "source": [
    "\"\"\"\n",
    "This module implements the TSP Problem\n",
    "\n",
    "State: Current path through the cities, starting\n",
    "       and ending at the same city\n",
    "Action: Swap two cities within the path (not the\n",
    "        start/end city) to create a new path through\n",
    "        the cities\n",
    "\n",
    "@author: Sean Brouwer\n",
    "@version 2/22/19\n",
    "\"\"\"\n",
    "from tools.aima.search import Problem, hill_climbing,\\\n",
    "    simulated_annealing, exp_schedule, genetic_search\n",
    "import random\n",
    "import time\n",
    "\n",
    "\n",
    "class TSP(Problem):\n",
    "    \"\"\"\n",
    "    State: Path covering all cities\n",
    "    Move: Swap two cities in path\n",
    "    \"\"\"\n",
    "\n",
    "    def __init__(self, start_path, distance_dict):\n",
    "        self.initial = start_path\n",
    "        self.distance_dict = distance_dict\n",
    "        \n",
    "    def actions(self, current_path):\n",
    "        swappable_cities = current_path[1:-2]\n",
    "        action_list = []\n",
    "        for city_1 in swappable_cities:\n",
    "            for city_2 in swappable_cities:\n",
    "                if (city_2, city_1) not in action_list and\\\n",
    "                        city_1 != city_2:\n",
    "                    action = (city_1, city_2)\n",
    "                    action_list.append(action)\n",
    "        return action_list\n",
    "        \n",
    "    def result(self, current_path, action):\n",
    "        index_1 = current_path.index(action[0])\n",
    "        index_2 = current_path.index(action[1])\n",
    "        city_1 = current_path[index_1]\n",
    "        city_2 = current_path[index_2]\n",
    "        new_path = current_path\n",
    "        new_path[index_1] = city_2\n",
    "        new_path[index_2] = city_1\n",
    "        return new_path\n",
    "    \n",
    "    def value(self, current_path):\n",
    "        path_cost = 0\n",
    "        for i in range(len(current_path) - 1):\n",
    "            if (current_path[i], current_path[i+1])\\\n",
    "                    in self.distance_dict:\n",
    "                path_cost += self.distance_dict[\n",
    "                    current_path[i], current_path[i+1]]\n",
    "            else:\n",
    "                path_cost += self.distance_dict[\n",
    "                    current_path[i+1], current_path[i]]\n",
    "        return path_cost\n",
    "\n",
    "\n",
    "if __name__ == '__main__':\n",
    "    # Formulate a TSP\n",
    "    # Setup initial city order\n",
    "    numCities = 20\n",
    "    startPath = []\n",
    "    for i in range(numCities):\n",
    "        startPath.append(i)\n",
    "    random.shuffle(startPath)\n",
    "    startPath.append(startPath[0])\n",
    "    print(\"Starting Path: \" + str(startPath))\n",
    "    \n",
    "    # Setup distance dictionary\n",
    "    distanceDict = {}\n",
    "    for city1 in startPath:\n",
    "        for city2 in startPath:\n",
    "            if (city2, city1) not in distanceDict and\\\n",
    "                    city1 != city2:\n",
    "                dictEntry = (city1, city2)\n",
    "                distanceDict[dictEntry] =\\\n",
    "                    random.randrange(1, 5, 1)\n",
    "    # print(\"Distance Dictionary:\")\n",
    "    # print(str(distanceDict))\n",
    "    \n",
    "    p = TSP(startPath, distanceDict)\n",
    "\n",
    "    # Solve the problem using hill-climbing.\n",
    "    print(\"\\nHill Climbing:\")\n",
    "    hcStartTime = time.time()\n",
    "    hill_solution = hill_climbing(p)\n",
    "    hcEndTime = time.time()\n",
    "    print(\"Best Path: \" + str(hill_solution))\n",
    "    print(\"Best Path cost: \" + str(p.value(hill_solution)))\n",
    "    print(\"Execution time: \" + str(hcEndTime-hcStartTime))\n",
    "\n",
    "    # Solve the problem using simulated annealing.\n",
    "    print(\"\\nSimulated Annealing:\")\n",
    "    annealingStartTime = time.time()\n",
    "    annealing_solution = simulated_annealing(\n",
    "        p,\n",
    "        exp_schedule(k=20, lam=0.005, limit=1000)\n",
    "    )\n",
    "    annealingEndTime = time.time()\n",
    "    print(\"Best Path: \" + str(annealing_solution))\n",
    "    print(\"Best Path cost: \" +\n",
    "          str(p.value(annealing_solution)))\n",
    "    print(\"Execution time: \" +\n",
    "          str(annealingEndTime-annealingStartTime))\n"
   ]
  },
  {
   "cell_type": "heading",
   "metadata": {},
   "level": 6,
   "source": [
    "Both local search algorithms are able to solve the problem correctly, but the hill climbing algorithm works much faster for this scale of a problem. For simple searching problems, hill climbing will be more efficient most of the time. Simulated annealing works better for more complicated problems."
   ]
  },
  {
   "cell_type": "heading",
   "metadata": {},
   "level": 6,
   "source": [
    "Part 3:"
   ]
  },
  {
   "cell_type": "code",
   "execution_count": 14,
   "metadata": {},
   "outputs": [
    {
     "name": "stdout",
     "output_type": "stream",
     "text": [
      "Min_conflicts:\nNH253 9:00 \nNH253 10:30 \nNH253 11:30 VanderLinden CS344 \nNH253 12:30 Plantinga CS212 \nSB382 9:00 Adams2 CS214 \nSB382 10:30 Norman1 CS104 \nSB382 11:30 Norman2 CS108 \nSB382 12:30 Adams1 CS112 \n\nAC3:\nUnable to solve\n\nBacktracking_search:\nNH253 9:00 Adams1 CS112 \nNH253 10:30 Adams2 CS214 \nNH253 11:30 Norman1 CS104 \nNH253 12:30 Norman2 CS108 \nSB382 9:00 VanderLinden CS344 \nSB382 10:30 Plantinga CS212 \nSB382 11:30 \nSB382 12:30 \n"
     ]
    }
   ],
   "source": [
    "\"\"\"\n",
    "This module implements a course-scheduling problem in\n",
    "a constraint satisfaction framework\n",
    "\n",
    "Domains: Courses (CS104, CS108, CS112, CS212, CS214, CS344)\n",
    "Variables: Faculty (Adams, VanderLinden, Plantinga, Norman)\n",
    "           Time Slots (900, 1030, 1130, 1230)\n",
    "           Classrooms (NH253, SB382)\n",
    "\n",
    "@author: Sean Brouwer\n",
    "@version 2/22/19\n",
    "\"\"\"\n",
    "\n",
    "from tools.aima.csp import CSP, AC3, backtracking_search,\\\n",
    "    min_conflicts, parse_neighbors\n",
    "\n",
    "\n",
    "def course_scheduling():\n",
    "    \"\"\"Return an instance of the Scheduling Problem.\"\"\"\n",
    "    courses = 'CS104 CS108 CS112 CS212 CS214 CS344'.split()\n",
    "    faculty = 'Adams1 Adams2 VanderLinden Plantinga Norman1 Norman2'.split()\n",
    "    # time_slots = '900 1030 1130 1230'.split()\n",
    "    # classrooms = 'NH253 SB382'.split()\n",
    "    variables = faculty + courses\n",
    "    domains = {}\n",
    "    for var in variables:\n",
    "        domains[var] = ['NH253 9:00', 'SB382 9:00',\n",
    "                        'NH253 10:30', 'SB382 10:30',\n",
    "                        'NH253 11:30', 'SB382 11:30',\n",
    "                        'NH253 12:30', 'SB382 12:30']\n",
    "    neighbors = parse_neighbors(\"\"\"Norman1: CS104;\n",
    "                Norman2: CS108; Adams1: CS112; Plantinga: CS212;\n",
    "                Adams2: CS214; VanderLinden: CS344\"\"\", variables)\n",
    "    for type in [courses, faculty]:\n",
    "        for A in type:\n",
    "            for B in type:\n",
    "                if A != B:\n",
    "                    if B not in neighbors[A]:\n",
    "                        neighbors[A].append(B)\n",
    "                    if A not in neighbors[B]:\n",
    "                        neighbors[B].append(A)\n",
    "\n",
    "    def schedule_constraint(A, a, B, b, recurse=0):\n",
    "        same = (a == b)\n",
    "        next_to = (a[6:8] == b[6:8])\n",
    "        if A == 'Norman1' and B == 'CS104':\n",
    "            return same\n",
    "        if A == 'Norman2' and B == 'CS108':\n",
    "            return same\n",
    "        if A == 'Adams1' and B == 'CS112':\n",
    "            return same\n",
    "        if A == 'Plantinga' and B == 'CS212':\n",
    "            return same\n",
    "        if A == 'Adams2' and B == 'CS214':\n",
    "            return same\n",
    "        if A == 'VanderLinden' and B == 'CS344':\n",
    "            return same\n",
    "        if A == 'Norman1' and B == 'Norman2':\n",
    "            return not next_to\n",
    "        if A == 'Norman2' and B == 'Norman1':\n",
    "            return not next_to\n",
    "        if A == 'Adams1' and B == 'Adams2':\n",
    "            return not next_to\n",
    "        if A == 'Adams2' and B == 'Adams1':\n",
    "            return not next_to\n",
    "        if recurse == 0:\n",
    "            return schedule_constraint(B, b, A, a, 1)\n",
    "        if ((A in courses and B in courses) or\n",
    "                (A in faculty and B in faculty)):\n",
    "            return not same\n",
    "        raise Exception('error')\n",
    "    return CSP(variables, domains, neighbors, schedule_constraint)\n",
    "\n",
    "\n",
    "def solve_schedule(algorithm=min_conflicts, **args):\n",
    "    sch = course_scheduling()\n",
    "    ans = algorithm(sch, **args)\n",
    "    if type(ans) == bool:\n",
    "        print(\"Unable to solve\")\n",
    "        return\n",
    "    for loc in ['NH253 9:00', 'NH253 10:30', 'NH253 11:30',\n",
    "                'NH253 12:30', 'SB382 9:00', 'SB382 10:30',\n",
    "                'SB382 11:30', 'SB382 12:30']:\n",
    "        print(loc, end=' ')\n",
    "        for (var, val) in ans.items():\n",
    "            if val == loc:\n",
    "                print(var, end=' ')\n",
    "        print()\n",
    "    \n",
    "    \n",
    "if __name__ == '__main__':\n",
    "    print(\"Min_conflicts:\")\n",
    "    solve_schedule()\n",
    "    print(\"\\nAC3:\")\n",
    "    solve_schedule(AC3)\n",
    "    print(\"\\nBacktracking_search:\")\n",
    "    solve_schedule(backtracking_search)\n"
   ]
  },
  {
   "cell_type": "heading",
   "metadata": {},
   "level": 6,
   "source": [
    "I chose this method of solving the problem because it closely matched the style of the zebra problem. I was able to make modifications to the zebra method to adapt it to the course scheduling problem."
   ]
  },
  {
   "cell_type": "code",
   "execution_count": null,
   "metadata": {},
   "outputs": [],
   "source": []
  }
 ],
 "metadata": {
  "kernelspec": {
   "display_name": "Python 2",
   "language": "python",
   "name": "python2"
  },
  "language_info": {
   "codemirror_mode": {
    "name": "ipython",
    "version": 2
   },
   "file_extension": ".py",
   "mimetype": "text/x-python",
   "name": "python",
   "nbconvert_exporter": "python",
   "pygments_lexer": "ipython2",
   "version": "2.7.6"
  }
 },
 "nbformat": 4,
 "nbformat_minor": 0
}
