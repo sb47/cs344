{
 "cells": [
  {
   "cell_type": "heading",
   "metadata": {
    "collapsed": true
   },
   "level": 6,
   "source": [
    "Homework 2 by Sean Brouwer for CS344. Date: 03/08/19"
   ]
  },
  {
   "cell_type": "heading",
   "metadata": {},
   "level": 6,
   "source": [
    "Part 1:"
   ]
  },
  {
   "cell_type": "heading",
   "metadata": {},
   "level": 6,
   "source": [
    "A network of perceptrons can compute the XOR function, but it requires multiple layers. In a single layer, pereptrons can compute an OR or an AND function and their inverses. An equivalent function to the XOR is [(-AND) AND (OR)], and all of those individual operations are computable by perceptron layers. Below is outlined the inner workings of the layers of the network."
   ]
  },
  {
   "cell_type": "heading",
   "metadata": {},
   "level": 6,
   "source": [
    "Layer 1: Two neurons, one computing -AND and the other computing OR, both using the network inputs. For both neurons, the w0 weight is equal to 0. For the -AND neuron, w1 = -1 and w2 = -1. The threshold is also equal to -1 for the -AND neuron. The OR neuron has w1 = 1 and w2 = 1. Finally, the threshold of the OR neuron is equal to 1."
   ]
  },
  {
   "cell_type": "heading",
   "metadata": {},
   "level": 6,
   "source": [
    "Layer 2: A single neuron computes AND using the outputs of the previous layer's neurons as the inputs. The weights are w0 = 0, w1 = 1, and w2 = 1. The threshold is equal to 2."
   ]
  },
  {
   "cell_type": "code",
   "execution_count": 27,
   "metadata": {
    "collapsed": false
   },
   "outputs": [
    {
     "name": "stdout",
     "output_type": "stream",
     "text": [
      "Dimensions: (506, 14)\n"
     ]
    }
   ],
   "source": [
    "import numpy as np\n",
    "import pandas as pd\n",
    "\n",
    "boston_df = pd.read_csv(\"https://raw.githubusercontent.com/selva86/datasets/master/BostonHousing.csv\")\n",
    "# Randomize order\n",
    "boston_df = boston_df.sample(frac=1)\n",
    "\n",
    "# Part a:\n",
    "print(\"Dimensions: \" + str(boston_df.shape))\n",
    "\n",
    "# Part b:\n",
    "[test_set, train_set, valid_set] = np.array_split(boston_df, 3)\n",
    "\n",
    "# Part c:\n",
    "boston_df[\"Livability\"] = (\n",
    "    1 / (boston_df[\"crim\"] * boston_df[\"nox\"])\n",
    ")\n",
    "# The synthetic feature added to the dataset is 1 divided\n",
    "# by the crime rate multiplied by the nitric oxide\n",
    "# concentration. This is a useful feature to know in this\n",
    "# domain because both crime and air pollution decrease how\n",
    "# desirable a neighborhood is, or in other words, its\n",
    "# livability. The higher the \"livability\" number is the\n",
    "# more desirable or livable the neighborhood because the\n",
    "# neighborhood has lower crime and pollution levels.\n"
   ]
  }
 ],
 "metadata": {
  "kernelspec": {
   "display_name": "Python 2",
   "language": "python",
   "name": "python2"
  },
  "language_info": {
   "codemirror_mode": {
    "name": "ipython",
    "version": 2
   },
   "file_extension": ".py",
   "mimetype": "text/x-python",
   "name": "python",
   "nbconvert_exporter": "python",
   "pygments_lexer": "ipython2",
   "version": "2.7.6"
  }
 },
 "nbformat": 4,
 "nbformat_minor": 0
}
